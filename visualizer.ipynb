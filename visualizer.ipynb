{
 "cells": [
  {
   "cell_type": "code",
   "execution_count": 1,
   "metadata": {},
   "outputs": [],
   "source": [
    "import argparse\n",
    "import json\n",
    "import os\n",
    "from os import listdir\n",
    "import cv2\n",
    "import h5py\n",
    "import numpy as np\n",
    "from PIL import Image\n",
    "from tqdm import tqdm\n",
    "import matplotlib.pyplot as plt\n",
    "from matplotlib import gridspec"
   ]
  },
  {
   "cell_type": "code",
   "execution_count": 2,
   "metadata": {},
   "outputs": [],
   "source": [
    "ssid_json_dir='/Users/anudeep/Desktop/Desktop/Fall23/BMI771/ARLDM/SSID/SSID_Annotations/'\n",
    "save_samples_dir='/Users/anudeep/Desktop/Desktop/Fall23/BMI771/ARLDM/save_samples_cont'\n",
    "ssid_img_dir='/Users/anudeep/Desktop/Desktop/Fall23/BMI771/ARLDM/SSID/SSID_Images'\n",
    "save_path_dir='/Users/anudeep/Desktop/Desktop/Fall23/BMI771/ARLDM/finalOP'\n",
    "save_path_dir_cont='/Users/anudeep/Desktop/Desktop/Fall23/BMI771/ARLDM/finalCont'\n",
    "task='visualization' #'continuation\n",
    "test_data = json.load(open(os.path.join(ssid_json_dir, 'SSID_Test.json')))\n",
    "imgInit=0\n",
    "album_mapping={}\n",
    "annot_new=test_data[\"annotations\"]\n",
    "for i in range(len(annot_new)):\n",
    "    annot = annot_new[i][0]\n",
    "    assert len(annot_new[i]) == 1\n",
    "    if annot['story_id'] not in album_mapping:\n",
    "        album_mapping[annot['story_id']] = {\"youtube_image_id\": [annot['youtube_image_id']],\n",
    "                                            \"storytext\": [annot['storytext']],\n",
    "                                            \"predicted_id\": [\"{0:0=4d}\".format(i)]}\n",
    "    else:\n",
    "        album_mapping[annot['story_id']][\"youtube_image_id\"].append(annot['youtube_image_id'])\n",
    "        album_mapping[annot['story_id']][\"storytext\"].append(\n",
    "            annot['storytext'])\n",
    "        album_mapping[annot['story_id']][\"predicted_id\"].append(\"{0:0=4d}\".format(i))\n",
    "#print(album_mapping)"
   ]
  },
  {
   "cell_type": "code",
   "execution_count": 3,
   "metadata": {},
   "outputs": [],
   "source": [
    "for key in album_mapping.keys():\n",
    "    real_img = [Image.open('{}/{}.jpg'.format(ssid_img_dir, yt_id)).convert('RGB') for yt_id in\n",
    "                    album_mapping[key]['youtube_image_id']]\n",
    "    predict_img=[Image.open('{}/{}.png'.format(save_samples_dir, yt_id)).convert('RGB') for yt_id in\n",
    "                    album_mapping[key]['predicted_id']]\n",
    "    image=[real_img,predict_img]\n",
    "    nrow = 2\n",
    "    ncol = 5\n",
    "    fig = plt.figure(figsize=(ncol+1, nrow+1)) \n",
    "    gs = gridspec.GridSpec(nrow, ncol,\n",
    "            wspace=0.0, hspace=0.0, \n",
    "            top=1.-0.5/(nrow+1), bottom=0.5/(nrow+1), \n",
    "            left=0.5/(ncol+1), right=1-0.5/(ncol+1)) \n",
    "    for i in range(nrow):\n",
    "        for j in range(ncol):\n",
    "            ax= plt.subplot(gs[i,j])\n",
    "            ax.imshow(image[i][j])\n",
    "            ax.set_xticklabels([])\n",
    "            ax.set_yticklabels([])\n",
    "    footnote_text=\"\"\"\"\"\"\n",
    "    for j in range(len(album_mapping[key]['storytext'])):\n",
    "        footnote_text=footnote_text+'\\n'+str(j+1)+'.'+album_mapping[key]['storytext'][j]\n",
    "    plt.figtext(0,1,footnote_text, fontsize=10, color='black')\n",
    "    save_path = os.path.join(save_path_dir, f'figure_{key}.png')  # Change 'path_to_save_directory'\n",
    "    plt.savefig(save_path, bbox_inches='tight')\n",
    "    plt.close()  # Close the figure to avoid multiple plots in the same figure\n"
   ]
  },
  {
   "cell_type": "code",
   "execution_count": 3,
   "metadata": {},
   "outputs": [],
   "source": [
    "album_mapping_cont={}\n",
    "j=0\n",
    "for i in range(len(annot_new)):\n",
    "    annot = annot_new[i][0]\n",
    "    assert len(annot_new[i]) == 1\n",
    "    if annot['story_id'] not in album_mapping_cont:\n",
    "        album_mapping_cont[annot['story_id']] = {\"youtube_image_id\": [annot['youtube_image_id']],\n",
    "                                            \"storytext\": [annot['storytext']],\n",
    "                                            \"predicted_id\": [annot['youtube_image_id']]}\n",
    "    else:\n",
    "        album_mapping_cont[annot['story_id']][\"youtube_image_id\"].append(annot['youtube_image_id'])\n",
    "        album_mapping_cont[annot['story_id']][\"storytext\"].append(\n",
    "            annot['storytext'])\n",
    "        album_mapping_cont[annot['story_id']][\"predicted_id\"].append(\"{0:0=4d}\".format(j))\n",
    "        j+=1"
   ]
  },
  {
   "cell_type": "code",
   "execution_count": 7,
   "metadata": {},
   "outputs": [],
   "source": [
    "album_mapping=album_mapping_cont\n",
    "for key in album_mapping.keys():\n",
    "    real_img = [Image.open('{}/{}.jpg'.format(ssid_img_dir, yt_id)).convert('RGB') for yt_id in\n",
    "                    album_mapping[key]['youtube_image_id']]\n",
    "    predict_img=[Image.open('{}/{}.jpg'.format(ssid_img_dir, album_mapping[key]['predicted_id'][0])).convert('RGB')] \n",
    "    for yt_id in range(1,len(album_mapping[key]['predicted_id'])):\n",
    "        predict_img.append(Image.open('{}/{}.png'.format(save_samples_dir, album_mapping[key]['predicted_id'][yt_id])).convert('RGB'))\n",
    "    image=[real_img,predict_img]\n",
    "    nrow = 2\n",
    "    ncol = 5\n",
    "    fig = plt.figure(figsize=(ncol+1, nrow+1)) \n",
    "    gs = gridspec.GridSpec(nrow, ncol,\n",
    "            wspace=0.0, hspace=0.0, \n",
    "            top=1.-0.5/(nrow+1), bottom=0.5/(nrow+1), \n",
    "            left=0.5/(ncol+1), right=1-0.5/(ncol+1)) \n",
    "    for i in range(nrow):\n",
    "        for j in range(ncol):\n",
    "            ax= plt.subplot(gs[i,j])\n",
    "            if i==0 and j==0:\n",
    "                 ax.set_title('Source', fontstyle='italic')\n",
    "            ax.imshow(image[i][j])\n",
    "            ax.set_xticklabels([])\n",
    "            ax.set_yticklabels([])\n",
    "    footnote_text=\"\"\"\"\"\"\n",
    "    for j in range(len(album_mapping[key]['storytext'])):\n",
    "        footnote_text=footnote_text+'\\n'+str(j+1)+'.'+album_mapping[key]['storytext'][j]\n",
    "    plt.figtext(0,1,footnote_text, fontsize=10, color='black')\n",
    "    save_path = os.path.join(save_path_dir_cont, f'figure_{key}.png')  # Change 'path_to_save_directory'\n",
    "    plt.savefig(save_path, bbox_inches='tight')\n",
    "    plt.close()  # Close the figure to avoid multiple plots in the same figure\n"
   ]
  },
  {
   "cell_type": "code",
   "execution_count": 14,
   "metadata": {},
   "outputs": [
    {
     "data": {
      "text/plain": [
       "'0001'"
      ]
     },
     "execution_count": 14,
     "metadata": {},
     "output_type": "execute_result"
    }
   ],
   "source": [
    "\n"
   ]
  },
  {
   "cell_type": "code",
   "execution_count": null,
   "metadata": {},
   "outputs": [],
   "source": []
  }
 ],
 "metadata": {
  "kernelspec": {
   "display_name": "Python 3",
   "language": "python",
   "name": "python3"
  },
  "language_info": {
   "codemirror_mode": {
    "name": "ipython",
    "version": 3
   },
   "file_extension": ".py",
   "mimetype": "text/x-python",
   "name": "python",
   "nbconvert_exporter": "python",
   "pygments_lexer": "ipython3",
   "version": "3.9.6"
  }
 },
 "nbformat": 4,
 "nbformat_minor": 2
}
